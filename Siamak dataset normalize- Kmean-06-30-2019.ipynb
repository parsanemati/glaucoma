{
 "cells": [
  {
   "cell_type": "code",
   "execution_count": 1,
   "metadata": {},
   "outputs": [],
   "source": [
    "\n",
    "import warnings\n",
    "warnings.filterwarnings(\"ignore\")"
   ]
  },
  {
   "cell_type": "code",
   "execution_count": 2,
   "metadata": {},
   "outputs": [
    {
     "name": "stdout",
     "output_type": "stream",
     "text": [
      " combineNormalize.csv           data3.csv\r\n",
      " combine.xlsx                  'Data3 + Kmean 2 label-Copy1.ipynb'\r\n",
      " data_1024.csv                  data3_kmeans.labels_.csv\r\n",
      " data1.csv                      plot_kmeans_digits.ipynb\r\n",
      "'Data1 + Kmean 2 label.ipynb'   README.md\r\n",
      " data2.csv                      results.csv\r\n",
      "'Data2 + Kmean 2 label.ipynb'  'Siamak dataset - Kmean-06-30-2019.ipynb'\r\n",
      " data2_kmeans.labels_.csv\r\n"
     ]
    }
   ],
   "source": [
    "ls"
   ]
  },
  {
   "cell_type": "code",
   "execution_count": 3,
   "metadata": {},
   "outputs": [],
   "source": [
    "import pandas as pd\n",
    "combineNormalize=pd.read_csv('combineNormalize.csv' )"
   ]
  },
  {
   "cell_type": "code",
   "execution_count": 4,
   "metadata": {},
   "outputs": [
    {
     "data": {
      "text/plain": [
       "(231, 769)"
      ]
     },
     "execution_count": 4,
     "metadata": {},
     "output_type": "execute_result"
    }
   ],
   "source": [
    "combineNormalize.shape"
   ]
  },
  {
   "cell_type": "code",
   "execution_count": 5,
   "metadata": {},
   "outputs": [
    {
     "data": {
      "text/html": [
       "<div>\n",
       "<style scoped>\n",
       "    .dataframe tbody tr th:only-of-type {\n",
       "        vertical-align: middle;\n",
       "    }\n",
       "\n",
       "    .dataframe tbody tr th {\n",
       "        vertical-align: top;\n",
       "    }\n",
       "\n",
       "    .dataframe thead th {\n",
       "        text-align: right;\n",
       "    }\n",
       "</style>\n",
       "<table border=\"1\" class=\"dataframe\">\n",
       "  <thead>\n",
       "    <tr style=\"text-align: right;\">\n",
       "      <th></th>\n",
       "      <th>RNFLT.1</th>\n",
       "      <th>RNFLT.2</th>\n",
       "      <th>RNFLT.3</th>\n",
       "      <th>RNFLT.4</th>\n",
       "      <th>RNFLT.5</th>\n",
       "      <th>RNFLT.6</th>\n",
       "      <th>RNFLT.7</th>\n",
       "      <th>RNFLT.8</th>\n",
       "      <th>RNFLT.9</th>\n",
       "      <th>RNFLT.10</th>\n",
       "      <th>...</th>\n",
       "      <th>RNFLT.760</th>\n",
       "      <th>RNFLT.761</th>\n",
       "      <th>RNFLT.762</th>\n",
       "      <th>RNFLT.763</th>\n",
       "      <th>RNFLT.764</th>\n",
       "      <th>RNFLT.765</th>\n",
       "      <th>RNFLT.766</th>\n",
       "      <th>RNFLT.767</th>\n",
       "      <th>RNFLT.768</th>\n",
       "      <th>Label</th>\n",
       "    </tr>\n",
       "  </thead>\n",
       "  <tbody>\n",
       "    <tr>\n",
       "      <th>0</th>\n",
       "      <td>0.971429</td>\n",
       "      <td>1.000000</td>\n",
       "      <td>1.000000</td>\n",
       "      <td>1.000000</td>\n",
       "      <td>1.000000</td>\n",
       "      <td>1.000000</td>\n",
       "      <td>1.000000</td>\n",
       "      <td>1.000000</td>\n",
       "      <td>1.000000</td>\n",
       "      <td>1.000000</td>\n",
       "      <td>...</td>\n",
       "      <td>1.000000</td>\n",
       "      <td>0.983607</td>\n",
       "      <td>0.951613</td>\n",
       "      <td>0.936508</td>\n",
       "      <td>0.920635</td>\n",
       "      <td>0.906250</td>\n",
       "      <td>0.906250</td>\n",
       "      <td>0.921875</td>\n",
       "      <td>0.940299</td>\n",
       "      <td>0</td>\n",
       "    </tr>\n",
       "    <tr>\n",
       "      <th>1</th>\n",
       "      <td>0.914286</td>\n",
       "      <td>0.864865</td>\n",
       "      <td>0.831169</td>\n",
       "      <td>0.810127</td>\n",
       "      <td>0.768293</td>\n",
       "      <td>0.741176</td>\n",
       "      <td>0.729412</td>\n",
       "      <td>0.734940</td>\n",
       "      <td>0.746835</td>\n",
       "      <td>0.779221</td>\n",
       "      <td>...</td>\n",
       "      <td>0.983871</td>\n",
       "      <td>1.000000</td>\n",
       "      <td>1.000000</td>\n",
       "      <td>1.000000</td>\n",
       "      <td>1.000000</td>\n",
       "      <td>1.000000</td>\n",
       "      <td>1.000000</td>\n",
       "      <td>1.000000</td>\n",
       "      <td>0.955224</td>\n",
       "      <td>0</td>\n",
       "    </tr>\n",
       "    <tr>\n",
       "      <th>2</th>\n",
       "      <td>0.685714</td>\n",
       "      <td>0.635135</td>\n",
       "      <td>0.610390</td>\n",
       "      <td>0.594937</td>\n",
       "      <td>0.548780</td>\n",
       "      <td>0.529412</td>\n",
       "      <td>0.505882</td>\n",
       "      <td>0.506024</td>\n",
       "      <td>0.506329</td>\n",
       "      <td>0.519481</td>\n",
       "      <td>...</td>\n",
       "      <td>0.822581</td>\n",
       "      <td>0.819672</td>\n",
       "      <td>0.822581</td>\n",
       "      <td>0.809524</td>\n",
       "      <td>0.793651</td>\n",
       "      <td>0.781250</td>\n",
       "      <td>0.765625</td>\n",
       "      <td>0.765625</td>\n",
       "      <td>0.716418</td>\n",
       "      <td>1</td>\n",
       "    </tr>\n",
       "    <tr>\n",
       "      <th>3</th>\n",
       "      <td>0.442857</td>\n",
       "      <td>0.405405</td>\n",
       "      <td>0.389610</td>\n",
       "      <td>0.379747</td>\n",
       "      <td>0.341463</td>\n",
       "      <td>0.329412</td>\n",
       "      <td>0.317647</td>\n",
       "      <td>0.313253</td>\n",
       "      <td>0.303797</td>\n",
       "      <td>0.311688</td>\n",
       "      <td>...</td>\n",
       "      <td>0.741935</td>\n",
       "      <td>0.737705</td>\n",
       "      <td>0.709677</td>\n",
       "      <td>0.682540</td>\n",
       "      <td>0.634921</td>\n",
       "      <td>0.593750</td>\n",
       "      <td>0.546875</td>\n",
       "      <td>0.531250</td>\n",
       "      <td>0.477612</td>\n",
       "      <td>0</td>\n",
       "    </tr>\n",
       "    <tr>\n",
       "      <th>4</th>\n",
       "      <td>0.514286</td>\n",
       "      <td>0.486486</td>\n",
       "      <td>0.467532</td>\n",
       "      <td>0.455696</td>\n",
       "      <td>0.439024</td>\n",
       "      <td>0.423529</td>\n",
       "      <td>0.411765</td>\n",
       "      <td>0.409639</td>\n",
       "      <td>0.405063</td>\n",
       "      <td>0.415584</td>\n",
       "      <td>...</td>\n",
       "      <td>0.693548</td>\n",
       "      <td>0.655738</td>\n",
       "      <td>0.645161</td>\n",
       "      <td>0.619048</td>\n",
       "      <td>0.603175</td>\n",
       "      <td>0.578125</td>\n",
       "      <td>0.578125</td>\n",
       "      <td>0.562500</td>\n",
       "      <td>0.537313</td>\n",
       "      <td>1</td>\n",
       "    </tr>\n",
       "  </tbody>\n",
       "</table>\n",
       "<p>5 rows × 769 columns</p>\n",
       "</div>"
      ],
      "text/plain": [
       "    RNFLT.1   RNFLT.2   RNFLT.3   RNFLT.4   RNFLT.5   RNFLT.6   RNFLT.7  \\\n",
       "0  0.971429  1.000000  1.000000  1.000000  1.000000  1.000000  1.000000   \n",
       "1  0.914286  0.864865  0.831169  0.810127  0.768293  0.741176  0.729412   \n",
       "2  0.685714  0.635135  0.610390  0.594937  0.548780  0.529412  0.505882   \n",
       "3  0.442857  0.405405  0.389610  0.379747  0.341463  0.329412  0.317647   \n",
       "4  0.514286  0.486486  0.467532  0.455696  0.439024  0.423529  0.411765   \n",
       "\n",
       "    RNFLT.8   RNFLT.9  RNFLT.10  ...  RNFLT.760  RNFLT.761  RNFLT.762  \\\n",
       "0  1.000000  1.000000  1.000000  ...   1.000000   0.983607   0.951613   \n",
       "1  0.734940  0.746835  0.779221  ...   0.983871   1.000000   1.000000   \n",
       "2  0.506024  0.506329  0.519481  ...   0.822581   0.819672   0.822581   \n",
       "3  0.313253  0.303797  0.311688  ...   0.741935   0.737705   0.709677   \n",
       "4  0.409639  0.405063  0.415584  ...   0.693548   0.655738   0.645161   \n",
       "\n",
       "   RNFLT.763  RNFLT.764  RNFLT.765  RNFLT.766  RNFLT.767  RNFLT.768  Label  \n",
       "0   0.936508   0.920635   0.906250   0.906250   0.921875   0.940299      0  \n",
       "1   1.000000   1.000000   1.000000   1.000000   1.000000   0.955224      0  \n",
       "2   0.809524   0.793651   0.781250   0.765625   0.765625   0.716418      1  \n",
       "3   0.682540   0.634921   0.593750   0.546875   0.531250   0.477612      0  \n",
       "4   0.619048   0.603175   0.578125   0.578125   0.562500   0.537313      1  \n",
       "\n",
       "[5 rows x 769 columns]"
      ]
     },
     "execution_count": 5,
     "metadata": {},
     "output_type": "execute_result"
    }
   ],
   "source": [
    "combineNormalize.head()"
   ]
  },
  {
   "cell_type": "code",
   "execution_count": 8,
   "metadata": {
    "scrolled": true
   },
   "outputs": [
    {
     "data": {
      "text/plain": [
       "(231, 768)"
      ]
     },
     "execution_count": 8,
     "metadata": {},
     "output_type": "execute_result"
    }
   ],
   "source": [
    "data_selection=combineNormalize.iloc[:,0:768].fillna(0)\n",
    "data_selection.shape"
   ]
  },
  {
   "cell_type": "code",
   "execution_count": 9,
   "metadata": {},
   "outputs": [
    {
     "data": {
      "text/html": [
       "<div>\n",
       "<style scoped>\n",
       "    .dataframe tbody tr th:only-of-type {\n",
       "        vertical-align: middle;\n",
       "    }\n",
       "\n",
       "    .dataframe tbody tr th {\n",
       "        vertical-align: top;\n",
       "    }\n",
       "\n",
       "    .dataframe thead th {\n",
       "        text-align: right;\n",
       "    }\n",
       "</style>\n",
       "<table border=\"1\" class=\"dataframe\">\n",
       "  <thead>\n",
       "    <tr style=\"text-align: right;\">\n",
       "      <th></th>\n",
       "      <th>RNFLT.1</th>\n",
       "      <th>RNFLT.2</th>\n",
       "      <th>RNFLT.3</th>\n",
       "      <th>RNFLT.4</th>\n",
       "      <th>RNFLT.5</th>\n",
       "      <th>RNFLT.6</th>\n",
       "      <th>RNFLT.7</th>\n",
       "      <th>RNFLT.8</th>\n",
       "      <th>RNFLT.9</th>\n",
       "      <th>RNFLT.10</th>\n",
       "      <th>...</th>\n",
       "      <th>RNFLT.759</th>\n",
       "      <th>RNFLT.760</th>\n",
       "      <th>RNFLT.761</th>\n",
       "      <th>RNFLT.762</th>\n",
       "      <th>RNFLT.763</th>\n",
       "      <th>RNFLT.764</th>\n",
       "      <th>RNFLT.765</th>\n",
       "      <th>RNFLT.766</th>\n",
       "      <th>RNFLT.767</th>\n",
       "      <th>RNFLT.768</th>\n",
       "    </tr>\n",
       "  </thead>\n",
       "  <tbody>\n",
       "    <tr>\n",
       "      <th>0</th>\n",
       "      <td>0.971429</td>\n",
       "      <td>1.000000</td>\n",
       "      <td>1.000000</td>\n",
       "      <td>1.000000</td>\n",
       "      <td>1.000000</td>\n",
       "      <td>1.000000</td>\n",
       "      <td>1.000000</td>\n",
       "      <td>1.000000</td>\n",
       "      <td>1.000000</td>\n",
       "      <td>1.000000</td>\n",
       "      <td>...</td>\n",
       "      <td>1.000000</td>\n",
       "      <td>1.000000</td>\n",
       "      <td>0.983607</td>\n",
       "      <td>0.951613</td>\n",
       "      <td>0.936508</td>\n",
       "      <td>0.920635</td>\n",
       "      <td>0.906250</td>\n",
       "      <td>0.906250</td>\n",
       "      <td>0.921875</td>\n",
       "      <td>0.940299</td>\n",
       "    </tr>\n",
       "    <tr>\n",
       "      <th>1</th>\n",
       "      <td>0.914286</td>\n",
       "      <td>0.864865</td>\n",
       "      <td>0.831169</td>\n",
       "      <td>0.810127</td>\n",
       "      <td>0.768293</td>\n",
       "      <td>0.741176</td>\n",
       "      <td>0.729412</td>\n",
       "      <td>0.734940</td>\n",
       "      <td>0.746835</td>\n",
       "      <td>0.779221</td>\n",
       "      <td>...</td>\n",
       "      <td>0.952381</td>\n",
       "      <td>0.983871</td>\n",
       "      <td>1.000000</td>\n",
       "      <td>1.000000</td>\n",
       "      <td>1.000000</td>\n",
       "      <td>1.000000</td>\n",
       "      <td>1.000000</td>\n",
       "      <td>1.000000</td>\n",
       "      <td>1.000000</td>\n",
       "      <td>0.955224</td>\n",
       "    </tr>\n",
       "    <tr>\n",
       "      <th>2</th>\n",
       "      <td>0.685714</td>\n",
       "      <td>0.635135</td>\n",
       "      <td>0.610390</td>\n",
       "      <td>0.594937</td>\n",
       "      <td>0.548780</td>\n",
       "      <td>0.529412</td>\n",
       "      <td>0.505882</td>\n",
       "      <td>0.506024</td>\n",
       "      <td>0.506329</td>\n",
       "      <td>0.519481</td>\n",
       "      <td>...</td>\n",
       "      <td>0.825397</td>\n",
       "      <td>0.822581</td>\n",
       "      <td>0.819672</td>\n",
       "      <td>0.822581</td>\n",
       "      <td>0.809524</td>\n",
       "      <td>0.793651</td>\n",
       "      <td>0.781250</td>\n",
       "      <td>0.765625</td>\n",
       "      <td>0.765625</td>\n",
       "      <td>0.716418</td>\n",
       "    </tr>\n",
       "    <tr>\n",
       "      <th>3</th>\n",
       "      <td>0.442857</td>\n",
       "      <td>0.405405</td>\n",
       "      <td>0.389610</td>\n",
       "      <td>0.379747</td>\n",
       "      <td>0.341463</td>\n",
       "      <td>0.329412</td>\n",
       "      <td>0.317647</td>\n",
       "      <td>0.313253</td>\n",
       "      <td>0.303797</td>\n",
       "      <td>0.311688</td>\n",
       "      <td>...</td>\n",
       "      <td>0.746032</td>\n",
       "      <td>0.741935</td>\n",
       "      <td>0.737705</td>\n",
       "      <td>0.709677</td>\n",
       "      <td>0.682540</td>\n",
       "      <td>0.634921</td>\n",
       "      <td>0.593750</td>\n",
       "      <td>0.546875</td>\n",
       "      <td>0.531250</td>\n",
       "      <td>0.477612</td>\n",
       "    </tr>\n",
       "    <tr>\n",
       "      <th>4</th>\n",
       "      <td>0.514286</td>\n",
       "      <td>0.486486</td>\n",
       "      <td>0.467532</td>\n",
       "      <td>0.455696</td>\n",
       "      <td>0.439024</td>\n",
       "      <td>0.423529</td>\n",
       "      <td>0.411765</td>\n",
       "      <td>0.409639</td>\n",
       "      <td>0.405063</td>\n",
       "      <td>0.415584</td>\n",
       "      <td>...</td>\n",
       "      <td>0.730159</td>\n",
       "      <td>0.693548</td>\n",
       "      <td>0.655738</td>\n",
       "      <td>0.645161</td>\n",
       "      <td>0.619048</td>\n",
       "      <td>0.603175</td>\n",
       "      <td>0.578125</td>\n",
       "      <td>0.578125</td>\n",
       "      <td>0.562500</td>\n",
       "      <td>0.537313</td>\n",
       "    </tr>\n",
       "  </tbody>\n",
       "</table>\n",
       "<p>5 rows × 768 columns</p>\n",
       "</div>"
      ],
      "text/plain": [
       "    RNFLT.1   RNFLT.2   RNFLT.3   RNFLT.4   RNFLT.5   RNFLT.6   RNFLT.7  \\\n",
       "0  0.971429  1.000000  1.000000  1.000000  1.000000  1.000000  1.000000   \n",
       "1  0.914286  0.864865  0.831169  0.810127  0.768293  0.741176  0.729412   \n",
       "2  0.685714  0.635135  0.610390  0.594937  0.548780  0.529412  0.505882   \n",
       "3  0.442857  0.405405  0.389610  0.379747  0.341463  0.329412  0.317647   \n",
       "4  0.514286  0.486486  0.467532  0.455696  0.439024  0.423529  0.411765   \n",
       "\n",
       "    RNFLT.8   RNFLT.9  RNFLT.10  ...  RNFLT.759  RNFLT.760  RNFLT.761  \\\n",
       "0  1.000000  1.000000  1.000000  ...   1.000000   1.000000   0.983607   \n",
       "1  0.734940  0.746835  0.779221  ...   0.952381   0.983871   1.000000   \n",
       "2  0.506024  0.506329  0.519481  ...   0.825397   0.822581   0.819672   \n",
       "3  0.313253  0.303797  0.311688  ...   0.746032   0.741935   0.737705   \n",
       "4  0.409639  0.405063  0.415584  ...   0.730159   0.693548   0.655738   \n",
       "\n",
       "   RNFLT.762  RNFLT.763  RNFLT.764  RNFLT.765  RNFLT.766  RNFLT.767  RNFLT.768  \n",
       "0   0.951613   0.936508   0.920635   0.906250   0.906250   0.921875   0.940299  \n",
       "1   1.000000   1.000000   1.000000   1.000000   1.000000   1.000000   0.955224  \n",
       "2   0.822581   0.809524   0.793651   0.781250   0.765625   0.765625   0.716418  \n",
       "3   0.709677   0.682540   0.634921   0.593750   0.546875   0.531250   0.477612  \n",
       "4   0.645161   0.619048   0.603175   0.578125   0.578125   0.562500   0.537313  \n",
       "\n",
       "[5 rows x 768 columns]"
      ]
     },
     "execution_count": 9,
     "metadata": {},
     "output_type": "execute_result"
    }
   ],
   "source": [
    "data_selection.head()"
   ]
  },
  {
   "cell_type": "code",
   "execution_count": 10,
   "metadata": {},
   "outputs": [],
   "source": [
    "X=data_selection.values"
   ]
  },
  {
   "cell_type": "code",
   "execution_count": 11,
   "metadata": {},
   "outputs": [
    {
     "data": {
      "text/plain": [
       "KMeans(algorithm='auto', copy_x=True, init='k-means++', max_iter=300,\n",
       "    n_clusters=2, n_init=10, n_jobs=None, precompute_distances='auto',\n",
       "    random_state=0, tol=0.0001, verbose=0)"
      ]
     },
     "execution_count": 11,
     "metadata": {},
     "output_type": "execute_result"
    }
   ],
   "source": [
    "from sklearn.cluster import KMeans\n",
    "\n",
    "kmeans = KMeans(n_clusters=2, random_state=0).fit(X)\n",
    "kmeans"
   ]
  },
  {
   "cell_type": "code",
   "execution_count": 12,
   "metadata": {},
   "outputs": [
    {
     "data": {
      "text/plain": [
       "array([0, 0, 0, 1, 0, 0, 1, 1, 0, 1, 0, 0, 1, 0, 0, 0, 0, 0, 0, 0, 0, 0,\n",
       "       0, 1, 1, 0, 0, 0, 0, 0, 0, 0, 1, 0, 0, 0, 0, 0, 1, 0, 0, 0, 1, 0,\n",
       "       0, 1, 0, 0, 1, 0, 0, 0, 0, 0, 1, 1, 0, 1, 0, 0, 0, 0, 1, 1, 0, 0,\n",
       "       0, 0, 1, 0, 0, 0, 0, 1, 0, 0, 0, 0, 0, 0, 0, 0, 0, 1, 0, 0, 0, 0,\n",
       "       1, 1, 0, 0, 1, 1, 0, 0, 0, 0, 0, 1, 0, 0, 0, 0, 0, 0, 0, 0, 0, 0,\n",
       "       0, 0, 0, 0, 0, 0, 0, 1, 0, 0, 0, 0, 0, 0, 0, 1, 1, 0, 0, 0, 1, 1,\n",
       "       0, 0, 0, 1, 0, 1, 0, 1, 0, 0, 1, 0, 0, 1, 0, 0, 0, 0, 0, 1, 0, 0,\n",
       "       1, 0, 0, 0, 1, 1, 0, 1, 0, 1, 1, 0, 0, 0, 1, 1, 0, 0, 0, 0, 0, 0,\n",
       "       0, 1, 0, 1, 0, 1, 0, 0, 0, 0, 1, 0, 1, 0, 1, 0, 0, 0, 0, 0, 1, 0,\n",
       "       0, 0, 0, 1, 1, 0, 1, 0, 1, 1, 1, 1, 1, 0, 0, 1, 0, 1, 1, 0, 1, 0,\n",
       "       1, 1, 1, 1, 0, 1, 1, 1, 1, 1, 1], dtype=int32)"
      ]
     },
     "execution_count": 12,
     "metadata": {},
     "output_type": "execute_result"
    }
   ],
   "source": [
    "kmeans.labels_"
   ]
  },
  {
   "cell_type": "code",
   "execution_count": 13,
   "metadata": {},
   "outputs": [
    {
     "name": "stdout",
     "output_type": "stream",
     "text": [
      "dict_keys([0, 1])\n",
      "dict_values([158, 73])\n"
     ]
    }
   ],
   "source": [
    "from collections import Counter\n",
    "print(Counter(kmeans.labels_).keys()) # equals to list(set(words))\n",
    "print(Counter(kmeans.labels_).values()) # counts the elements' frequency\n"
   ]
  },
  {
   "cell_type": "code",
   "execution_count": 14,
   "metadata": {},
   "outputs": [],
   "source": [
    "import numpy\n",
    "numpy.savetxt(\"Siamak_datasetـNoramlize.csv\", kmeans.labels_, delimiter=\",\")"
   ]
  },
  {
   "cell_type": "code",
   "execution_count": null,
   "metadata": {},
   "outputs": [],
   "source": []
  }
 ],
 "metadata": {
  "kernelspec": {
   "display_name": "Python 3",
   "language": "python",
   "name": "python3"
  },
  "language_info": {
   "codemirror_mode": {
    "name": "ipython",
    "version": 3
   },
   "file_extension": ".py",
   "mimetype": "text/x-python",
   "name": "python",
   "nbconvert_exporter": "python",
   "pygments_lexer": "ipython3",
   "version": "3.7.3"
  }
 },
 "nbformat": 4,
 "nbformat_minor": 2
}
