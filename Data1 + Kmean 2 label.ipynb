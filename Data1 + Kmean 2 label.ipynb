{
 "cells": [
  {
   "cell_type": "code",
   "execution_count": 1,
   "metadata": {},
   "outputs": [],
   "source": [
    "\n",
    "import warnings\n",
    "warnings.filterwarnings(\"ignore\")"
   ]
  },
  {
   "cell_type": "code",
   "execution_count": 2,
   "metadata": {},
   "outputs": [],
   "source": [
    "import pandas as pd\n",
    "data1=pd.read_csv('data1.csv')"
   ]
  },
  {
   "cell_type": "code",
   "execution_count": 3,
   "metadata": {},
   "outputs": [
    {
     "data": {
      "text/plain": [
       "(531, 1054)"
      ]
     },
     "execution_count": 3,
     "metadata": {},
     "output_type": "execute_result"
    }
   ],
   "source": [
    "data1.shape"
   ]
  },
  {
   "cell_type": "code",
   "execution_count": 4,
   "metadata": {
    "scrolled": true
   },
   "outputs": [
    {
     "data": {
      "text/plain": [
       "(531, 1024)"
      ]
     },
     "execution_count": 4,
     "metadata": {},
     "output_type": "execute_result"
    }
   ],
   "source": [
    "data_selection=data1.iloc[:,30:1054].fillna(0)\n",
    "data_selection.shape"
   ]
  },
  {
   "cell_type": "code",
   "execution_count": 5,
   "metadata": {},
   "outputs": [
    {
     "data": {
      "text/html": [
       "<div>\n",
       "<style scoped>\n",
       "    .dataframe tbody tr th:only-of-type {\n",
       "        vertical-align: middle;\n",
       "    }\n",
       "\n",
       "    .dataframe tbody tr th {\n",
       "        vertical-align: top;\n",
       "    }\n",
       "\n",
       "    .dataframe thead th {\n",
       "        text-align: right;\n",
       "    }\n",
       "</style>\n",
       "<table border=\"1\" class=\"dataframe\">\n",
       "  <thead>\n",
       "    <tr style=\"text-align: right;\">\n",
       "      <th></th>\n",
       "      <th>P01</th>\n",
       "      <th>P02</th>\n",
       "      <th>P03</th>\n",
       "      <th>P04</th>\n",
       "      <th>P05</th>\n",
       "      <th>P06</th>\n",
       "      <th>P07</th>\n",
       "      <th>P08</th>\n",
       "      <th>P09</th>\n",
       "      <th>P10</th>\n",
       "      <th>...</th>\n",
       "      <th>P1015</th>\n",
       "      <th>P1016</th>\n",
       "      <th>P1017</th>\n",
       "      <th>P1018</th>\n",
       "      <th>P1019</th>\n",
       "      <th>P1020</th>\n",
       "      <th>P1021</th>\n",
       "      <th>P1022</th>\n",
       "      <th>P1023</th>\n",
       "      <th>P1024</th>\n",
       "    </tr>\n",
       "  </thead>\n",
       "  <tbody>\n",
       "    <tr>\n",
       "      <th>0</th>\n",
       "      <td>36.20</td>\n",
       "      <td>36.33</td>\n",
       "      <td>36.46</td>\n",
       "      <td>36.58</td>\n",
       "      <td>36.71</td>\n",
       "      <td>36.85</td>\n",
       "      <td>36.98</td>\n",
       "      <td>37.11</td>\n",
       "      <td>37.25</td>\n",
       "      <td>37.38</td>\n",
       "      <td>...</td>\n",
       "      <td>34.91</td>\n",
       "      <td>35.04</td>\n",
       "      <td>35.17</td>\n",
       "      <td>35.30</td>\n",
       "      <td>35.43</td>\n",
       "      <td>35.56</td>\n",
       "      <td>35.69</td>\n",
       "      <td>35.82</td>\n",
       "      <td>35.94</td>\n",
       "      <td>36.07</td>\n",
       "    </tr>\n",
       "    <tr>\n",
       "      <th>1</th>\n",
       "      <td>46.28</td>\n",
       "      <td>46.24</td>\n",
       "      <td>46.19</td>\n",
       "      <td>46.15</td>\n",
       "      <td>46.10</td>\n",
       "      <td>46.04</td>\n",
       "      <td>45.99</td>\n",
       "      <td>45.93</td>\n",
       "      <td>45.87</td>\n",
       "      <td>45.81</td>\n",
       "      <td>...</td>\n",
       "      <td>46.46</td>\n",
       "      <td>46.48</td>\n",
       "      <td>46.48</td>\n",
       "      <td>46.48</td>\n",
       "      <td>46.47</td>\n",
       "      <td>46.45</td>\n",
       "      <td>46.42</td>\n",
       "      <td>46.39</td>\n",
       "      <td>46.36</td>\n",
       "      <td>46.32</td>\n",
       "    </tr>\n",
       "    <tr>\n",
       "      <th>2</th>\n",
       "      <td>82.48</td>\n",
       "      <td>82.57</td>\n",
       "      <td>82.65</td>\n",
       "      <td>82.74</td>\n",
       "      <td>82.82</td>\n",
       "      <td>82.89</td>\n",
       "      <td>82.97</td>\n",
       "      <td>83.05</td>\n",
       "      <td>83.13</td>\n",
       "      <td>83.20</td>\n",
       "      <td>...</td>\n",
       "      <td>81.38</td>\n",
       "      <td>81.52</td>\n",
       "      <td>81.66</td>\n",
       "      <td>81.78</td>\n",
       "      <td>81.90</td>\n",
       "      <td>82.01</td>\n",
       "      <td>82.11</td>\n",
       "      <td>82.21</td>\n",
       "      <td>82.30</td>\n",
       "      <td>82.39</td>\n",
       "    </tr>\n",
       "    <tr>\n",
       "      <th>3</th>\n",
       "      <td>60.97</td>\n",
       "      <td>61.25</td>\n",
       "      <td>61.53</td>\n",
       "      <td>61.81</td>\n",
       "      <td>62.08</td>\n",
       "      <td>62.35</td>\n",
       "      <td>62.61</td>\n",
       "      <td>62.86</td>\n",
       "      <td>63.11</td>\n",
       "      <td>63.36</td>\n",
       "      <td>...</td>\n",
       "      <td>57.99</td>\n",
       "      <td>58.29</td>\n",
       "      <td>58.59</td>\n",
       "      <td>58.89</td>\n",
       "      <td>59.19</td>\n",
       "      <td>59.49</td>\n",
       "      <td>59.79</td>\n",
       "      <td>60.09</td>\n",
       "      <td>60.38</td>\n",
       "      <td>60.68</td>\n",
       "    </tr>\n",
       "    <tr>\n",
       "      <th>4</th>\n",
       "      <td>56.31</td>\n",
       "      <td>56.26</td>\n",
       "      <td>56.21</td>\n",
       "      <td>56.17</td>\n",
       "      <td>56.14</td>\n",
       "      <td>56.12</td>\n",
       "      <td>56.10</td>\n",
       "      <td>56.09</td>\n",
       "      <td>56.10</td>\n",
       "      <td>56.11</td>\n",
       "      <td>...</td>\n",
       "      <td>57.11</td>\n",
       "      <td>57.01</td>\n",
       "      <td>56.92</td>\n",
       "      <td>56.83</td>\n",
       "      <td>56.75</td>\n",
       "      <td>56.66</td>\n",
       "      <td>56.59</td>\n",
       "      <td>56.51</td>\n",
       "      <td>56.44</td>\n",
       "      <td>56.37</td>\n",
       "    </tr>\n",
       "  </tbody>\n",
       "</table>\n",
       "<p>5 rows × 1024 columns</p>\n",
       "</div>"
      ],
      "text/plain": [
       "     P01    P02    P03    P04    P05    P06    P07    P08    P09    P10  ...  \\\n",
       "0  36.20  36.33  36.46  36.58  36.71  36.85  36.98  37.11  37.25  37.38  ...   \n",
       "1  46.28  46.24  46.19  46.15  46.10  46.04  45.99  45.93  45.87  45.81  ...   \n",
       "2  82.48  82.57  82.65  82.74  82.82  82.89  82.97  83.05  83.13  83.20  ...   \n",
       "3  60.97  61.25  61.53  61.81  62.08  62.35  62.61  62.86  63.11  63.36  ...   \n",
       "4  56.31  56.26  56.21  56.17  56.14  56.12  56.10  56.09  56.10  56.11  ...   \n",
       "\n",
       "   P1015  P1016  P1017  P1018  P1019  P1020  P1021  P1022  P1023  P1024  \n",
       "0  34.91  35.04  35.17  35.30  35.43  35.56  35.69  35.82  35.94  36.07  \n",
       "1  46.46  46.48  46.48  46.48  46.47  46.45  46.42  46.39  46.36  46.32  \n",
       "2  81.38  81.52  81.66  81.78  81.90  82.01  82.11  82.21  82.30  82.39  \n",
       "3  57.99  58.29  58.59  58.89  59.19  59.49  59.79  60.09  60.38  60.68  \n",
       "4  57.11  57.01  56.92  56.83  56.75  56.66  56.59  56.51  56.44  56.37  \n",
       "\n",
       "[5 rows x 1024 columns]"
      ]
     },
     "execution_count": 5,
     "metadata": {},
     "output_type": "execute_result"
    }
   ],
   "source": [
    "data_selection.head()"
   ]
  },
  {
   "cell_type": "code",
   "execution_count": 6,
   "metadata": {},
   "outputs": [
    {
     "data": {
      "text/plain": [
       "Male      273\n",
       "Female    252\n",
       "Name: Gender, dtype: int64"
      ]
     },
     "execution_count": 6,
     "metadata": {},
     "output_type": "execute_result"
    }
   ],
   "source": [
    "data1.Gender.value_counts()"
   ]
  },
  {
   "cell_type": "code",
   "execution_count": 7,
   "metadata": {},
   "outputs": [
    {
     "data": {
      "text/plain": [
       "<Figure size 800x600 with 1 Axes>"
      ]
     },
     "metadata": {},
     "output_type": "display_data"
    }
   ],
   "source": [
    "import matplotlib.pyplot as plt\n",
    "fig = plt.figure(figsize=(8,6))\n",
    "data1.groupby('Gender').Gender.count().plot.bar(ylim=0)\n",
    "plt.show()"
   ]
  },
  {
   "cell_type": "code",
   "execution_count": 8,
   "metadata": {},
   "outputs": [
    {
     "data": {
      "text/plain": [
       "79    39\n",
       "61    30\n",
       "73    30\n",
       "84    27\n",
       "88    24\n",
       "87    24\n",
       "85    24\n",
       "80    21\n",
       "68    18\n",
       "76    18\n",
       "65    18\n",
       "66    18\n",
       "78    15\n",
       "52    15\n",
       "81    12\n",
       "48    12\n",
       "38    12\n",
       "83    12\n",
       "72    12\n",
       "53    12\n",
       "67    12\n",
       "69    12\n",
       "28     9\n",
       "8      9\n",
       "0      9\n",
       "63     6\n",
       "90     6\n",
       "58     6\n",
       "57     6\n",
       "71     6\n",
       "74     6\n",
       "51     6\n",
       "77     6\n",
       "46     6\n",
       "82     6\n",
       "36     6\n",
       "86     6\n",
       "89     6\n",
       "91     6\n",
       "60     3\n",
       "Name: Age, dtype: int64"
      ]
     },
     "execution_count": 8,
     "metadata": {},
     "output_type": "execute_result"
    }
   ],
   "source": [
    "data1.Age.value_counts()"
   ]
  },
  {
   "cell_type": "code",
   "execution_count": 9,
   "metadata": {},
   "outputs": [
    {
     "data": {
      "image/png": "[encoded data removed]",
      "text/plain": [
       "<Figure size 576x432 with 1 Axes>"
      ]
     },
     "metadata": {
      "needs_background": "light"
     },
     "output_type": "display_data"
    }
   ],
   "source": [
    "import matplotlib.pyplot as plt\n",
    "fig = plt.figure(figsize=(8,6))\n",
    "data1.groupby('Age').Age.count().plot.bar(ylim=0)\n",
    "plt.show()"
   ]
  },
  {
   "cell_type": "code",
   "execution_count": 10,
   "metadata": {},
   "outputs": [],
   "source": [
    "X=data_selection.values"
   ]
  },
  {
   "cell_type": "code",
   "execution_count": 11,
   "metadata": {},
   "outputs": [
    {
     "data": {
      "text/plain": [
       "KMeans(algorithm='auto', copy_x=True, init='k-means++', max_iter=300,\n",
       "    n_clusters=2, n_init=10, n_jobs=None, precompute_distances='auto',\n",
       "    random_state=0, tol=0.0001, verbose=0)"
      ]
     },
     "execution_count": 11,
     "metadata": {},
     "output_type": "execute_result"
    }
   ],
   "source": [
    "from sklearn.cluster import KMeans\n",
    "\n",
    "kmeans = KMeans(n_clusters=2, random_state=0).fit(X)\n",
    "kmeans"
   ]
  },
  {
   "cell_type": "code",
   "execution_count": 12,
   "metadata": {},
   "outputs": [
    {
     "data": {
      "text/plain": [
       "array([1, 0, 1, 1, 0, 1, 0, 0, 1, 0, 0, 1, 1, 0, 1, 1, 0, 1, 0, 0, 0, 0,\n",
       "       0, 0, 1, 0, 1, 1, 0, 1, 1, 0, 1, 1, 0, 1, 1, 0, 1, 0, 0, 1, 1, 0,\n",
       "       1, 1, 0, 1, 0, 0, 1, 1, 0, 1, 0, 0, 1, 0, 0, 1, 1, 0, 1, 1, 0, 1,\n",
       "       1, 0, 1, 0, 0, 1, 1, 0, 1, 0, 0, 1, 1, 0, 1, 0, 0, 1, 1, 0, 1, 1,\n",
       "       0, 1, 1, 0, 1, 1, 0, 1, 0, 0, 0, 0, 0, 0, 0, 0, 1, 1, 0, 1, 1, 0,\n",
       "       1, 0, 0, 1, 0, 0, 1, 0, 0, 1, 0, 0, 1, 0, 0, 1, 0, 0, 1, 1, 0, 1,\n",
       "       1, 0, 1, 0, 0, 1, 1, 0, 1, 1, 0, 1, 0, 0, 1, 0, 0, 1, 0, 0, 1, 1,\n",
       "       0, 1, 1, 0, 1, 1, 0, 1, 1, 0, 1, 0, 0, 1, 0, 0, 0, 1, 0, 1, 1, 0,\n",
       "       1, 1, 0, 1, 0, 0, 0, 0, 0, 1, 1, 0, 1, 1, 0, 1, 1, 0, 1, 1, 0, 1,\n",
       "       1, 0, 1, 0, 0, 1, 1, 0, 1, 1, 0, 1, 0, 0, 1, 0, 0, 1, 0, 0, 0, 0,\n",
       "       0, 0, 0, 0, 0, 0, 0, 1, 1, 0, 1, 1, 0, 1, 0, 0, 1, 0, 0, 1, 1, 0,\n",
       "       1, 1, 0, 1, 1, 0, 1, 0, 0, 1, 1, 0, 1, 1, 0, 1, 1, 0, 1, 1, 0, 1,\n",
       "       1, 0, 1, 1, 0, 1, 1, 0, 1, 1, 0, 1, 0, 0, 1, 0, 0, 1, 1, 0, 1, 1,\n",
       "       0, 1, 1, 0, 1, 1, 0, 1, 1, 0, 1, 1, 0, 1, 1, 0, 1, 1, 0, 1, 1, 0,\n",
       "       1, 0, 0, 1, 1, 0, 1, 1, 0, 1, 0, 0, 1, 0, 0, 1, 0, 0, 1, 0, 0, 1,\n",
       "       1, 0, 1, 1, 0, 1, 1, 0, 1, 1, 0, 1, 1, 0, 1, 1, 0, 1, 1, 0, 1, 0,\n",
       "       0, 1, 0, 0, 1, 1, 0, 1, 0, 0, 1, 1, 0, 1, 1, 0, 1, 0, 0, 0, 0, 0,\n",
       "       1, 0, 0, 1, 1, 0, 1, 1, 0, 1, 1, 0, 1, 0, 0, 1, 1, 0, 1, 1, 0, 1,\n",
       "       1, 0, 1, 1, 0, 1, 1, 0, 1, 1, 0, 1, 1, 0, 1, 1, 0, 1, 1, 0, 1, 0,\n",
       "       0, 1, 1, 0, 1, 0, 0, 1, 1, 0, 1, 0, 0, 1, 0, 0, 1, 1, 0, 1, 1, 0,\n",
       "       1, 1, 0, 1, 1, 0, 1, 0, 0, 1, 0, 0, 1, 0, 0, 1, 1, 0, 1, 0, 0, 1,\n",
       "       0, 0, 1, 0, 0, 1, 1, 0, 1, 0, 0, 1, 0, 0, 1, 1, 0, 1, 1, 0, 1, 0,\n",
       "       0, 1, 0, 0, 1, 1, 0, 1, 1, 0, 1, 0, 0, 1, 0, 0, 1, 0, 0, 0, 0, 0,\n",
       "       1, 1, 0, 1, 0, 0, 1, 1, 0, 1, 1, 0, 1, 1, 0, 1, 1, 0, 1, 1, 0, 1,\n",
       "       0, 0, 1], dtype=int32)"
      ]
     },
     "execution_count": 12,
     "metadata": {},
     "output_type": "execute_result"
    }
   ],
   "source": [
    "kmeans.labels_"
   ]
  },
  {
   "cell_type": "code",
   "execution_count": 13,
   "metadata": {},
   "outputs": [
    {
     "name": "stdout",
     "output_type": "stream",
     "text": [
      "dict_keys([1, 0])\n",
      "dict_values([271, 260])\n"
     ]
    }
   ],
   "source": [
    "from collections import Counter\n",
    "print(Counter(kmeans.labels_).keys()) # equals to list(set(words))\n",
    "print(Counter(kmeans.labels_).values()) # counts the elements' frequency\n"
   ]
  },
  {
   "cell_type": "code",
   "execution_count": 16,
   "metadata": {},
   "outputs": [],
   "source": [
    "import numpy\n",
    "numpy.savetxt(\"data1_kmeans.labels_.csv\", kmeans.labels_, delimiter=\",\")"
   ]
  },
  {
   "cell_type": "code",
   "execution_count": null,
   "metadata": {},
   "outputs": [],
   "source": []
  }
 ],
 "metadata": {
  "kernelspec": {
   "display_name": "Python 3",
   "language": "python",
   "name": "python3"
  },
  "language_info": {
   "codemirror_mode": {
    "name": "ipython",
    "version": 3
   },
   "file_extension": ".py",
   "mimetype": "text/x-python",
   "name": "python",
   "nbconvert_exporter": "python",
   "pygments_lexer": "ipython3",
   "version": "3.7.3"
  }
 },
 "nbformat": 4,
 "nbformat_minor": 2
}
