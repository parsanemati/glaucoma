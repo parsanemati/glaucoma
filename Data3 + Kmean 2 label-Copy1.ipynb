{
 "cells": [
  {
   "cell_type": "code",
   "execution_count": 1,
   "metadata": {},
   "outputs": [],
   "source": [
    "\n",
    "import warnings\n",
    "warnings.filterwarnings(\"ignore\")"
   ]
  },
  {
   "cell_type": "code",
   "execution_count": 2,
   "metadata": {},
   "outputs": [
    {
     "name": "stdout",
     "output_type": "stream",
     "text": [
      " data_1024.csv                  data2_kmeans.labels_.csv\r\n",
      " data1.csv                      data3.csv\r\n",
      "'Data1 + Kmean 2 label.ipynb'  'Data3 + Kmean 2 label-Copy1.ipynb'\r\n",
      " data1_kmeans.labels.csv        plot_kmeans_digits.ipynb\r\n",
      " data2.csv                      README.md\r\n",
      "'Data2 + Kmean 2 label.ipynb'\r\n"
     ]
    }
   ],
   "source": [
    "ls"
   ]
  },
  {
   "cell_type": "code",
   "execution_count": 3,
   "metadata": {},
   "outputs": [],
   "source": [
    "import pandas as pd\n",
    "data1=pd.read_csv('data3.csv')"
   ]
  },
  {
   "cell_type": "code",
   "execution_count": 4,
   "metadata": {},
   "outputs": [
    {
     "data": {
      "text/plain": [
       "(531, 99)"
      ]
     },
     "execution_count": 4,
     "metadata": {},
     "output_type": "execute_result"
    }
   ],
   "source": [
    "data1.shape"
   ]
  },
  {
   "cell_type": "code",
   "execution_count": 5,
   "metadata": {},
   "outputs": [
    {
     "data": {
      "text/html": [
       "<div>\n",
       "<style scoped>\n",
       "    .dataframe tbody tr th:only-of-type {\n",
       "        vertical-align: middle;\n",
       "    }\n",
       "\n",
       "    .dataframe tbody tr th {\n",
       "        vertical-align: top;\n",
       "    }\n",
       "\n",
       "    .dataframe thead th {\n",
       "        text-align: right;\n",
       "    }\n",
       "</style>\n",
       "<table border=\"1\" class=\"dataframe\">\n",
       "  <thead>\n",
       "    <tr style=\"text-align: right;\">\n",
       "      <th></th>\n",
       "      <th>Export Software Ver.</th>\n",
       "      <th>Export Date</th>\n",
       "      <th>Export Time</th>\n",
       "      <th>Data No.</th>\n",
       "      <th>New Patient ID</th>\n",
       "      <th>Gender</th>\n",
       "      <th>Age</th>\n",
       "      <th>Ethnicity</th>\n",
       "      <th>Diagnosis1</th>\n",
       "      <th>Diagnosis2</th>\n",
       "      <th>...</th>\n",
       "      <th>Disc Area</th>\n",
       "      <th>Cup Area</th>\n",
       "      <th>Rim Area</th>\n",
       "      <th>Cup Volume</th>\n",
       "      <th>Rim Volume</th>\n",
       "      <th>C/D Area Ratio</th>\n",
       "      <th>Linear C/D Ratio</th>\n",
       "      <th>Vertical C/D Ratio</th>\n",
       "      <th>Disc Dia.(V)</th>\n",
       "      <th>Disc Dia.(H)</th>\n",
       "    </tr>\n",
       "  </thead>\n",
       "  <tbody>\n",
       "    <tr>\n",
       "      <th>0</th>\n",
       "      <td>1.7.0.0</td>\n",
       "      <td>5/17/2019</td>\n",
       "      <td>13:12:38</td>\n",
       "      <td>103833</td>\n",
       "      <td>VN3907</td>\n",
       "      <td>Female</td>\n",
       "      <td>0</td>\n",
       "      <td>NaN</td>\n",
       "      <td>NaN</td>\n",
       "      <td>NaN</td>\n",
       "      <td>...</td>\n",
       "      <td>2.74</td>\n",
       "      <td>0.0</td>\n",
       "      <td>2.74</td>\n",
       "      <td>0.00</td>\n",
       "      <td>0.82</td>\n",
       "      <td>0.0</td>\n",
       "      <td>0.00</td>\n",
       "      <td>0.00</td>\n",
       "      <td>1.97</td>\n",
       "      <td>1.80</td>\n",
       "    </tr>\n",
       "    <tr>\n",
       "      <th>1</th>\n",
       "      <td>1.7.0.0</td>\n",
       "      <td>5/17/2019</td>\n",
       "      <td>13:12:38</td>\n",
       "      <td>103833</td>\n",
       "      <td>VN3907</td>\n",
       "      <td>Female</td>\n",
       "      <td>0</td>\n",
       "      <td>NaN</td>\n",
       "      <td>NaN</td>\n",
       "      <td>NaN</td>\n",
       "      <td>...</td>\n",
       "      <td>NaN</td>\n",
       "      <td>NaN</td>\n",
       "      <td>NaN</td>\n",
       "      <td>NaN</td>\n",
       "      <td>NaN</td>\n",
       "      <td>NaN</td>\n",
       "      <td>NaN</td>\n",
       "      <td>NaN</td>\n",
       "      <td>NaN</td>\n",
       "      <td>NaN</td>\n",
       "    </tr>\n",
       "    <tr>\n",
       "      <th>2</th>\n",
       "      <td>1.7.0.0</td>\n",
       "      <td>5/17/2019</td>\n",
       "      <td>13:12:38</td>\n",
       "      <td>103833</td>\n",
       "      <td>VN3907</td>\n",
       "      <td>Female</td>\n",
       "      <td>0</td>\n",
       "      <td>NaN</td>\n",
       "      <td>NaN</td>\n",
       "      <td>NaN</td>\n",
       "      <td>...</td>\n",
       "      <td>NaN</td>\n",
       "      <td>NaN</td>\n",
       "      <td>NaN</td>\n",
       "      <td>NaN</td>\n",
       "      <td>NaN</td>\n",
       "      <td>NaN</td>\n",
       "      <td>NaN</td>\n",
       "      <td>NaN</td>\n",
       "      <td>NaN</td>\n",
       "      <td>NaN</td>\n",
       "    </tr>\n",
       "    <tr>\n",
       "      <th>3</th>\n",
       "      <td>1.7.0.0</td>\n",
       "      <td>5/17/2019</td>\n",
       "      <td>13:12:39</td>\n",
       "      <td>103834</td>\n",
       "      <td>VN3907</td>\n",
       "      <td>Female</td>\n",
       "      <td>0</td>\n",
       "      <td>NaN</td>\n",
       "      <td>NaN</td>\n",
       "      <td>NaN</td>\n",
       "      <td>...</td>\n",
       "      <td>1.98</td>\n",
       "      <td>0.4</td>\n",
       "      <td>1.58</td>\n",
       "      <td>0.05</td>\n",
       "      <td>0.33</td>\n",
       "      <td>0.2</td>\n",
       "      <td>0.45</td>\n",
       "      <td>0.42</td>\n",
       "      <td>1.73</td>\n",
       "      <td>1.61</td>\n",
       "    </tr>\n",
       "    <tr>\n",
       "      <th>4</th>\n",
       "      <td>1.7.0.0</td>\n",
       "      <td>5/17/2019</td>\n",
       "      <td>13:12:39</td>\n",
       "      <td>103834</td>\n",
       "      <td>VN3907</td>\n",
       "      <td>Female</td>\n",
       "      <td>0</td>\n",
       "      <td>NaN</td>\n",
       "      <td>NaN</td>\n",
       "      <td>NaN</td>\n",
       "      <td>...</td>\n",
       "      <td>NaN</td>\n",
       "      <td>NaN</td>\n",
       "      <td>NaN</td>\n",
       "      <td>NaN</td>\n",
       "      <td>NaN</td>\n",
       "      <td>NaN</td>\n",
       "      <td>NaN</td>\n",
       "      <td>NaN</td>\n",
       "      <td>NaN</td>\n",
       "      <td>NaN</td>\n",
       "    </tr>\n",
       "  </tbody>\n",
       "</table>\n",
       "<p>5 rows × 99 columns</p>\n",
       "</div>"
      ],
      "text/plain": [
       "  Export Software Ver. Export Date Export Time  Data No. New Patient ID  \\\n",
       "0              1.7.0.0   5/17/2019    13:12:38    103833         VN3907   \n",
       "1              1.7.0.0   5/17/2019    13:12:38    103833         VN3907   \n",
       "2              1.7.0.0   5/17/2019    13:12:38    103833         VN3907   \n",
       "3              1.7.0.0   5/17/2019    13:12:39    103834         VN3907   \n",
       "4              1.7.0.0   5/17/2019    13:12:39    103834         VN3907   \n",
       "\n",
       "   Gender  Age Ethnicity  Diagnosis1  Diagnosis2  ...  Disc Area  Cup Area  \\\n",
       "0  Female    0       NaN         NaN         NaN  ...       2.74       0.0   \n",
       "1  Female    0       NaN         NaN         NaN  ...        NaN       NaN   \n",
       "2  Female    0       NaN         NaN         NaN  ...        NaN       NaN   \n",
       "3  Female    0       NaN         NaN         NaN  ...       1.98       0.4   \n",
       "4  Female    0       NaN         NaN         NaN  ...        NaN       NaN   \n",
       "\n",
       "  Rim Area Cup Volume Rim Volume C/D Area Ratio Linear C/D Ratio  \\\n",
       "0     2.74       0.00       0.82            0.0             0.00   \n",
       "1      NaN        NaN        NaN            NaN              NaN   \n",
       "2      NaN        NaN        NaN            NaN              NaN   \n",
       "3     1.58       0.05       0.33            0.2             0.45   \n",
       "4      NaN        NaN        NaN            NaN              NaN   \n",
       "\n",
       "  Vertical C/D Ratio  Disc Dia.(V) Disc Dia.(H)  \n",
       "0               0.00          1.97         1.80  \n",
       "1                NaN           NaN          NaN  \n",
       "2                NaN           NaN          NaN  \n",
       "3               0.42          1.73         1.61  \n",
       "4                NaN           NaN          NaN  \n",
       "\n",
       "[5 rows x 99 columns]"
      ]
     },
     "execution_count": 5,
     "metadata": {},
     "output_type": "execute_result"
    }
   ],
   "source": [
    "data1.head()"
   ]
  },
  {
   "cell_type": "code",
   "execution_count": 6,
   "metadata": {
    "scrolled": true
   },
   "outputs": [
    {
     "data": {
      "text/plain": [
       "(531, 69)"
      ]
     },
     "execution_count": 6,
     "metadata": {},
     "output_type": "execute_result"
    }
   ],
   "source": [
    "data_selection=data1.iloc[:,30:99].fillna(0)\n",
    "data_selection.shape"
   ]
  },
  {
   "cell_type": "code",
   "execution_count": 7,
   "metadata": {},
   "outputs": [
    {
     "data": {
      "text/html": [
       "<div>\n",
       "<style scoped>\n",
       "    .dataframe tbody tr th:only-of-type {\n",
       "        vertical-align: middle;\n",
       "    }\n",
       "\n",
       "    .dataframe tbody tr th {\n",
       "        vertical-align: top;\n",
       "    }\n",
       "\n",
       "    .dataframe thead th {\n",
       "        text-align: right;\n",
       "    }\n",
       "</style>\n",
       "<table border=\"1\" class=\"dataframe\">\n",
       "  <thead>\n",
       "    <tr style=\"text-align: right;\">\n",
       "      <th></th>\n",
       "      <th>Total</th>\n",
       "      <th>4_T</th>\n",
       "      <th>4_S</th>\n",
       "      <th>4_N</th>\n",
       "      <th>4_I</th>\n",
       "      <th>6_T</th>\n",
       "      <th>6_TS</th>\n",
       "      <th>6_NS</th>\n",
       "      <th>6_N</th>\n",
       "      <th>6_NI</th>\n",
       "      <th>...</th>\n",
       "      <th>Disc Area</th>\n",
       "      <th>Cup Area</th>\n",
       "      <th>Rim Area</th>\n",
       "      <th>Cup Volume</th>\n",
       "      <th>Rim Volume</th>\n",
       "      <th>C/D Area Ratio</th>\n",
       "      <th>Linear C/D Ratio</th>\n",
       "      <th>Vertical C/D Ratio</th>\n",
       "      <th>Disc Dia.(V)</th>\n",
       "      <th>Disc Dia.(H)</th>\n",
       "    </tr>\n",
       "  </thead>\n",
       "  <tbody>\n",
       "    <tr>\n",
       "      <th>0</th>\n",
       "      <td>83.49</td>\n",
       "      <td>41.89</td>\n",
       "      <td>121.47</td>\n",
       "      <td>71.72</td>\n",
       "      <td>98.40</td>\n",
       "      <td>41.89</td>\n",
       "      <td>160.30</td>\n",
       "      <td>82.33</td>\n",
       "      <td>78.35</td>\n",
       "      <td>92.48</td>\n",
       "      <td>...</td>\n",
       "      <td>2.74</td>\n",
       "      <td>0.0</td>\n",
       "      <td>2.74</td>\n",
       "      <td>0.00</td>\n",
       "      <td>0.82</td>\n",
       "      <td>0.0</td>\n",
       "      <td>0.00</td>\n",
       "      <td>0.00</td>\n",
       "      <td>1.97</td>\n",
       "      <td>1.80</td>\n",
       "    </tr>\n",
       "    <tr>\n",
       "      <th>1</th>\n",
       "      <td>43.28</td>\n",
       "      <td>45.60</td>\n",
       "      <td>43.52</td>\n",
       "      <td>45.01</td>\n",
       "      <td>39.07</td>\n",
       "      <td>45.60</td>\n",
       "      <td>45.79</td>\n",
       "      <td>43.71</td>\n",
       "      <td>43.59</td>\n",
       "      <td>37.77</td>\n",
       "      <td>...</td>\n",
       "      <td>0.00</td>\n",
       "      <td>0.0</td>\n",
       "      <td>0.00</td>\n",
       "      <td>0.00</td>\n",
       "      <td>0.00</td>\n",
       "      <td>0.0</td>\n",
       "      <td>0.00</td>\n",
       "      <td>0.00</td>\n",
       "      <td>0.00</td>\n",
       "      <td>0.00</td>\n",
       "    </tr>\n",
       "    <tr>\n",
       "      <th>2</th>\n",
       "      <td>126.78</td>\n",
       "      <td>87.50</td>\n",
       "      <td>165.00</td>\n",
       "      <td>116.73</td>\n",
       "      <td>137.47</td>\n",
       "      <td>87.50</td>\n",
       "      <td>206.09</td>\n",
       "      <td>126.05</td>\n",
       "      <td>121.95</td>\n",
       "      <td>130.26</td>\n",
       "      <td>...</td>\n",
       "      <td>0.00</td>\n",
       "      <td>0.0</td>\n",
       "      <td>0.00</td>\n",
       "      <td>0.00</td>\n",
       "      <td>0.00</td>\n",
       "      <td>0.0</td>\n",
       "      <td>0.00</td>\n",
       "      <td>0.00</td>\n",
       "      <td>0.00</td>\n",
       "      <td>0.00</td>\n",
       "    </tr>\n",
       "    <tr>\n",
       "      <th>3</th>\n",
       "      <td>109.99</td>\n",
       "      <td>72.04</td>\n",
       "      <td>139.71</td>\n",
       "      <td>81.07</td>\n",
       "      <td>145.77</td>\n",
       "      <td>72.04</td>\n",
       "      <td>168.81</td>\n",
       "      <td>110.78</td>\n",
       "      <td>88.63</td>\n",
       "      <td>147.49</td>\n",
       "      <td>...</td>\n",
       "      <td>1.98</td>\n",
       "      <td>0.4</td>\n",
       "      <td>1.58</td>\n",
       "      <td>0.05</td>\n",
       "      <td>0.33</td>\n",
       "      <td>0.2</td>\n",
       "      <td>0.45</td>\n",
       "      <td>0.42</td>\n",
       "      <td>1.73</td>\n",
       "      <td>1.61</td>\n",
       "    </tr>\n",
       "    <tr>\n",
       "      <th>4</th>\n",
       "      <td>48.65</td>\n",
       "      <td>56.04</td>\n",
       "      <td>46.10</td>\n",
       "      <td>48.11</td>\n",
       "      <td>44.48</td>\n",
       "      <td>56.04</td>\n",
       "      <td>47.29</td>\n",
       "      <td>47.27</td>\n",
       "      <td>46.49</td>\n",
       "      <td>43.37</td>\n",
       "      <td>...</td>\n",
       "      <td>0.00</td>\n",
       "      <td>0.0</td>\n",
       "      <td>0.00</td>\n",
       "      <td>0.00</td>\n",
       "      <td>0.00</td>\n",
       "      <td>0.0</td>\n",
       "      <td>0.00</td>\n",
       "      <td>0.00</td>\n",
       "      <td>0.00</td>\n",
       "      <td>0.00</td>\n",
       "    </tr>\n",
       "  </tbody>\n",
       "</table>\n",
       "<p>5 rows × 69 columns</p>\n",
       "</div>"
      ],
      "text/plain": [
       "    Total    4_T     4_S     4_N     4_I    6_T    6_TS    6_NS     6_N  \\\n",
       "0   83.49  41.89  121.47   71.72   98.40  41.89  160.30   82.33   78.35   \n",
       "1   43.28  45.60   43.52   45.01   39.07  45.60   45.79   43.71   43.59   \n",
       "2  126.78  87.50  165.00  116.73  137.47  87.50  206.09  126.05  121.95   \n",
       "3  109.99  72.04  139.71   81.07  145.77  72.04  168.81  110.78   88.63   \n",
       "4   48.65  56.04   46.10   48.11   44.48  56.04   47.29   47.27   46.49   \n",
       "\n",
       "     6_NI  ...  Disc Area  Cup Area  Rim Area  Cup Volume  Rim Volume  \\\n",
       "0   92.48  ...       2.74       0.0      2.74        0.00        0.82   \n",
       "1   37.77  ...       0.00       0.0      0.00        0.00        0.00   \n",
       "2  130.26  ...       0.00       0.0      0.00        0.00        0.00   \n",
       "3  147.49  ...       1.98       0.4      1.58        0.05        0.33   \n",
       "4   43.37  ...       0.00       0.0      0.00        0.00        0.00   \n",
       "\n",
       "   C/D Area Ratio  Linear C/D Ratio  Vertical C/D Ratio  Disc Dia.(V)  \\\n",
       "0             0.0              0.00                0.00          1.97   \n",
       "1             0.0              0.00                0.00          0.00   \n",
       "2             0.0              0.00                0.00          0.00   \n",
       "3             0.2              0.45                0.42          1.73   \n",
       "4             0.0              0.00                0.00          0.00   \n",
       "\n",
       "   Disc Dia.(H)  \n",
       "0          1.80  \n",
       "1          0.00  \n",
       "2          0.00  \n",
       "3          1.61  \n",
       "4          0.00  \n",
       "\n",
       "[5 rows x 69 columns]"
      ]
     },
     "execution_count": 7,
     "metadata": {},
     "output_type": "execute_result"
    }
   ],
   "source": [
    "data_selection.head()"
   ]
  },
  {
   "cell_type": "code",
   "execution_count": 8,
   "metadata": {},
   "outputs": [
    {
     "data": {
      "text/plain": [
       "Male      273\n",
       "Female    252\n",
       "Name: Gender, dtype: int64"
      ]
     },
     "execution_count": 8,
     "metadata": {},
     "output_type": "execute_result"
    }
   ],
   "source": [
    "data1.Gender.value_counts()"
   ]
  },
  {
   "cell_type": "code",
   "execution_count": 9,
   "metadata": {},
   "outputs": [
    {
     "data": {
      "text/plain": [
       "<Figure size 800x600 with 1 Axes>"
      ]
     },
     "metadata": {},
     "output_type": "display_data"
    }
   ],
   "source": [
    "import matplotlib.pyplot as plt\n",
    "fig = plt.figure(figsize=(8,6))\n",
    "data1.groupby('Gender').Gender.count().plot.bar(ylim=0)\n",
    "plt.show()"
   ]
  },
  {
   "cell_type": "code",
   "execution_count": 10,
   "metadata": {},
   "outputs": [
    {
     "data": {
      "image/png": "[encoded data removed]",
      "text/plain": [
       "<Figure size 576x432 with 1 Axes>"
      ]
     },
     "metadata": {
      "needs_background": "light"
     },
     "output_type": "display_data"
    }
   ],
   "source": [
    "import matplotlib.pyplot as plt\n",
    "fig = plt.figure(figsize=(8,6))\n",
    "data1.groupby('Age').Age.count().plot.bar(ylim=0)\n",
    "plt.show()"
   ]
  },
  {
   "cell_type": "code",
   "execution_count": 11,
   "metadata": {},
   "outputs": [],
   "source": [
    "X=data_selection.values"
   ]
  },
  {
   "cell_type": "code",
   "execution_count": 12,
   "metadata": {},
   "outputs": [
    {
     "data": {
      "text/plain": [
       "KMeans(algorithm='auto', copy_x=True, init='k-means++', max_iter=300,\n",
       "    n_clusters=2, n_init=10, n_jobs=None, precompute_distances='auto',\n",
       "    random_state=0, tol=0.0001, verbose=0)"
      ]
     },
     "execution_count": 12,
     "metadata": {},
     "output_type": "execute_result"
    }
   ],
   "source": [
    "from sklearn.cluster import KMeans\n",
    "\n",
    "kmeans = KMeans(n_clusters=2, random_state=0).fit(X)\n",
    "kmeans"
   ]
  },
  {
   "cell_type": "code",
   "execution_count": 13,
   "metadata": {},
   "outputs": [
    {
     "data": {
      "text/plain": [
       "array([0, 1, 0, 0, 1, 0, 1, 1, 0, 1, 1, 0, 0, 1, 0, 0, 1, 0, 1, 1, 1, 1,\n",
       "       1, 1, 0, 1, 0, 0, 1, 0, 0, 1, 0, 0, 1, 0, 0, 1, 0, 1, 1, 0, 0, 1,\n",
       "       0, 0, 1, 0, 1, 1, 0, 0, 1, 0, 1, 1, 0, 1, 1, 0, 0, 1, 0, 0, 1, 0,\n",
       "       0, 1, 0, 0, 1, 0, 0, 1, 0, 1, 1, 0, 0, 1, 0, 1, 1, 0, 0, 1, 0, 0,\n",
       "       1, 0, 0, 1, 0, 0, 1, 0, 1, 1, 1, 1, 1, 1, 1, 1, 0, 0, 1, 0, 0, 1,\n",
       "       0, 1, 1, 0, 1, 1, 0, 1, 1, 0, 1, 1, 0, 1, 1, 0, 1, 1, 0, 0, 1, 0,\n",
       "       0, 1, 0, 1, 1, 0, 0, 1, 0, 0, 1, 0, 1, 1, 0, 1, 1, 0, 1, 1, 0, 0,\n",
       "       1, 0, 0, 1, 0, 0, 1, 0, 0, 1, 0, 1, 1, 0, 1, 1, 1, 0, 1, 0, 0, 1,\n",
       "       0, 0, 1, 0, 1, 1, 1, 1, 1, 0, 0, 1, 0, 0, 1, 0, 0, 1, 0, 0, 1, 0,\n",
       "       0, 1, 0, 1, 1, 0, 0, 1, 0, 0, 1, 0, 1, 1, 0, 1, 1, 0, 1, 1, 1, 1,\n",
       "       1, 1, 1, 1, 1, 1, 1, 0, 0, 1, 0, 0, 1, 0, 1, 1, 0, 1, 1, 0, 0, 1,\n",
       "       0, 0, 1, 0, 0, 1, 0, 1, 1, 0, 0, 1, 0, 0, 1, 0, 0, 1, 0, 0, 1, 0,\n",
       "       0, 1, 0, 0, 1, 0, 0, 1, 0, 0, 1, 0, 1, 1, 0, 1, 1, 0, 0, 1, 0, 0,\n",
       "       1, 0, 0, 1, 0, 0, 1, 0, 0, 1, 0, 0, 1, 0, 0, 1, 0, 0, 1, 0, 0, 1,\n",
       "       0, 1, 1, 0, 0, 1, 0, 0, 1, 0, 1, 1, 0, 1, 1, 0, 1, 1, 0, 1, 1, 0,\n",
       "       0, 1, 0, 0, 1, 0, 0, 1, 0, 0, 1, 0, 0, 1, 0, 0, 1, 0, 0, 1, 0, 1,\n",
       "       1, 0, 1, 1, 0, 0, 1, 0, 1, 1, 0, 0, 1, 0, 0, 1, 0, 1, 1, 1, 1, 1,\n",
       "       0, 1, 1, 0, 0, 1, 0, 0, 1, 0, 0, 1, 0, 1, 1, 0, 0, 1, 0, 0, 1, 0,\n",
       "       0, 1, 0, 0, 1, 0, 0, 1, 0, 0, 1, 0, 0, 1, 0, 0, 1, 0, 0, 1, 0, 1,\n",
       "       1, 0, 0, 1, 0, 1, 1, 0, 0, 1, 0, 1, 1, 0, 1, 1, 0, 0, 1, 0, 0, 1,\n",
       "       0, 0, 1, 0, 0, 1, 0, 1, 1, 0, 1, 1, 0, 1, 1, 0, 0, 1, 0, 1, 1, 0,\n",
       "       1, 1, 0, 1, 1, 0, 0, 1, 0, 1, 1, 0, 1, 1, 0, 0, 1, 0, 0, 1, 0, 1,\n",
       "       1, 0, 1, 1, 0, 0, 1, 0, 0, 1, 0, 1, 1, 0, 1, 1, 0, 1, 1, 1, 1, 1,\n",
       "       0, 0, 1, 0, 1, 1, 0, 0, 1, 0, 0, 1, 0, 0, 1, 0, 0, 1, 0, 0, 1, 0,\n",
       "       1, 1, 0], dtype=int32)"
      ]
     },
     "execution_count": 13,
     "metadata": {},
     "output_type": "execute_result"
    }
   ],
   "source": [
    "kmeans.labels_"
   ]
  },
  {
   "cell_type": "code",
   "execution_count": 14,
   "metadata": {},
   "outputs": [
    {
     "name": "stdout",
     "output_type": "stream",
     "text": [
      "dict_keys([0, 1])\n",
      "dict_values([272, 259])\n"
     ]
    }
   ],
   "source": [
    "from collections import Counter\n",
    "print(Counter(kmeans.labels_).keys()) # equals to list(set(words))\n",
    "print(Counter(kmeans.labels_).values()) # counts the elements' frequency\n"
   ]
  },
  {
   "cell_type": "code",
   "execution_count": 15,
   "metadata": {},
   "outputs": [],
   "source": [
    "import numpy\n",
    "numpy.savetxt(\"data3_kmeans.labels_.csv\", kmeans.labels_, delimiter=\",\")"
   ]
  }
 ],
 "metadata": {
  "kernelspec": {
   "display_name": "Python 3",
   "language": "python",
   "name": "python3"
  },
  "language_info": {
   "codemirror_mode": {
    "name": "ipython",
    "version": 3
   },
   "file_extension": ".py",
   "mimetype": "text/x-python",
   "name": "python",
   "nbconvert_exporter": "python",
   "pygments_lexer": "ipython3",
   "version": "3.7.3"
  }
 },
 "nbformat": 4,
 "nbformat_minor": 2
}
