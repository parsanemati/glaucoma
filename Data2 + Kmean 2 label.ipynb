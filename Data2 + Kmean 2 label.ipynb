{
 "cells": [
  {
   "cell_type": "code",
   "execution_count": 1,
   "metadata": {},
   "outputs": [],
   "source": [
    "\n",
    "import warnings\n",
    "warnings.filterwarnings(\"ignore\")"
   ]
  },
  {
   "cell_type": "code",
   "execution_count": 2,
   "metadata": {},
   "outputs": [
    {
     "name": "stdout",
     "output_type": "stream",
     "text": [
      " data_1024.csv                  data2_kmeans.labels_.csv\r\n",
      " data1.csv                      data3.csv\r\n",
      "'Data1 + Kmean 2 label.ipynb'  'Data3 + Kmean 2 label-Copy1.ipynb'\r\n",
      " data1_kmeans.labels.csv        data3_kmeans.labels_.csv\r\n",
      " data2.csv                      plot_kmeans_digits.ipynb\r\n",
      "'Data2 + Kmean 2 label.ipynb'   README.md\r\n"
     ]
    }
   ],
   "source": [
    "ls"
   ]
  },
  {
   "cell_type": "code",
   "execution_count": 3,
   "metadata": {},
   "outputs": [],
   "source": [
    "import pandas as pd\n",
    "data1=pd.read_csv('data2.csv')"
   ]
  },
  {
   "cell_type": "code",
   "execution_count": 4,
   "metadata": {},
   "outputs": [
    {
     "data": {
      "text/plain": [
       "(531, 706)"
      ]
     },
     "execution_count": 4,
     "metadata": {},
     "output_type": "execute_result"
    }
   ],
   "source": [
    "data1.shape"
   ]
  },
  {
   "cell_type": "code",
   "execution_count": 5,
   "metadata": {
    "scrolled": true
   },
   "outputs": [
    {
     "data": {
      "text/plain": [
       "(531, 676)"
      ]
     },
     "execution_count": 5,
     "metadata": {},
     "output_type": "execute_result"
    }
   ],
   "source": [
    "data_selection=data1.iloc[:,30:1054].fillna(0)\n",
    "data_selection.shape"
   ]
  },
  {
   "cell_type": "code",
   "execution_count": 6,
   "metadata": {},
   "outputs": [
    {
     "data": {
      "text/html": [
       "<div>\n",
       "<style scoped>\n",
       "    .dataframe tbody tr th:only-of-type {\n",
       "        vertical-align: middle;\n",
       "    }\n",
       "\n",
       "    .dataframe tbody tr th {\n",
       "        vertical-align: top;\n",
       "    }\n",
       "\n",
       "    .dataframe thead th {\n",
       "        text-align: right;\n",
       "    }\n",
       "</style>\n",
       "<table border=\"1\" class=\"dataframe\">\n",
       "  <thead>\n",
       "    <tr style=\"text-align: right;\">\n",
       "      <th></th>\n",
       "      <th>01_01</th>\n",
       "      <th>02_01</th>\n",
       "      <th>03_01</th>\n",
       "      <th>04_01</th>\n",
       "      <th>05_01</th>\n",
       "      <th>06_01</th>\n",
       "      <th>07_01</th>\n",
       "      <th>08_01</th>\n",
       "      <th>09_01</th>\n",
       "      <th>10_01</th>\n",
       "      <th>...</th>\n",
       "      <th>17_26</th>\n",
       "      <th>18_26</th>\n",
       "      <th>19_26</th>\n",
       "      <th>20_26</th>\n",
       "      <th>21_26</th>\n",
       "      <th>22_26</th>\n",
       "      <th>23_26</th>\n",
       "      <th>24_26</th>\n",
       "      <th>25_26</th>\n",
       "      <th>26_26</th>\n",
       "    </tr>\n",
       "  </thead>\n",
       "  <tbody>\n",
       "    <tr>\n",
       "      <th>0</th>\n",
       "      <td>98.62</td>\n",
       "      <td>138.66</td>\n",
       "      <td>157.84</td>\n",
       "      <td>147.98</td>\n",
       "      <td>126.58</td>\n",
       "      <td>89.42</td>\n",
       "      <td>61.04</td>\n",
       "      <td>48.71</td>\n",
       "      <td>42.01</td>\n",
       "      <td>38.81</td>\n",
       "      <td>...</td>\n",
       "      <td>38.88</td>\n",
       "      <td>35.44</td>\n",
       "      <td>41.38</td>\n",
       "      <td>36.74</td>\n",
       "      <td>35.17</td>\n",
       "      <td>39.41</td>\n",
       "      <td>41.52</td>\n",
       "      <td>34.47</td>\n",
       "      <td>32.98</td>\n",
       "      <td>30.63</td>\n",
       "    </tr>\n",
       "    <tr>\n",
       "      <th>1</th>\n",
       "      <td>44.92</td>\n",
       "      <td>41.88</td>\n",
       "      <td>37.90</td>\n",
       "      <td>34.53</td>\n",
       "      <td>31.50</td>\n",
       "      <td>31.95</td>\n",
       "      <td>33.00</td>\n",
       "      <td>33.22</td>\n",
       "      <td>35.36</td>\n",
       "      <td>39.93</td>\n",
       "      <td>...</td>\n",
       "      <td>39.76</td>\n",
       "      <td>39.40</td>\n",
       "      <td>39.32</td>\n",
       "      <td>39.45</td>\n",
       "      <td>38.44</td>\n",
       "      <td>37.54</td>\n",
       "      <td>37.54</td>\n",
       "      <td>38.49</td>\n",
       "      <td>40.30</td>\n",
       "      <td>42.72</td>\n",
       "    </tr>\n",
       "    <tr>\n",
       "      <th>2</th>\n",
       "      <td>143.55</td>\n",
       "      <td>180.54</td>\n",
       "      <td>195.75</td>\n",
       "      <td>182.51</td>\n",
       "      <td>158.09</td>\n",
       "      <td>121.38</td>\n",
       "      <td>94.04</td>\n",
       "      <td>81.94</td>\n",
       "      <td>77.38</td>\n",
       "      <td>78.74</td>\n",
       "      <td>...</td>\n",
       "      <td>78.64</td>\n",
       "      <td>74.84</td>\n",
       "      <td>80.71</td>\n",
       "      <td>76.20</td>\n",
       "      <td>73.61</td>\n",
       "      <td>76.96</td>\n",
       "      <td>79.06</td>\n",
       "      <td>72.96</td>\n",
       "      <td>73.29</td>\n",
       "      <td>73.36</td>\n",
       "    </tr>\n",
       "    <tr>\n",
       "      <th>3</th>\n",
       "      <td>97.66</td>\n",
       "      <td>102.98</td>\n",
       "      <td>109.57</td>\n",
       "      <td>116.56</td>\n",
       "      <td>121.57</td>\n",
       "      <td>127.11</td>\n",
       "      <td>123.41</td>\n",
       "      <td>107.59</td>\n",
       "      <td>100.81</td>\n",
       "      <td>92.88</td>\n",
       "      <td>...</td>\n",
       "      <td>63.30</td>\n",
       "      <td>59.75</td>\n",
       "      <td>57.34</td>\n",
       "      <td>55.85</td>\n",
       "      <td>54.43</td>\n",
       "      <td>57.80</td>\n",
       "      <td>47.06</td>\n",
       "      <td>42.18</td>\n",
       "      <td>37.52</td>\n",
       "      <td>34.91</td>\n",
       "    </tr>\n",
       "    <tr>\n",
       "      <th>4</th>\n",
       "      <td>48.90</td>\n",
       "      <td>45.85</td>\n",
       "      <td>49.02</td>\n",
       "      <td>61.36</td>\n",
       "      <td>72.45</td>\n",
       "      <td>74.69</td>\n",
       "      <td>61.58</td>\n",
       "      <td>51.02</td>\n",
       "      <td>48.57</td>\n",
       "      <td>48.03</td>\n",
       "      <td>...</td>\n",
       "      <td>41.03</td>\n",
       "      <td>39.94</td>\n",
       "      <td>38.52</td>\n",
       "      <td>36.14</td>\n",
       "      <td>39.53</td>\n",
       "      <td>40.59</td>\n",
       "      <td>40.46</td>\n",
       "      <td>39.79</td>\n",
       "      <td>40.34</td>\n",
       "      <td>40.27</td>\n",
       "    </tr>\n",
       "  </tbody>\n",
       "</table>\n",
       "<p>5 rows × 676 columns</p>\n",
       "</div>"
      ],
      "text/plain": [
       "    01_01   02_01   03_01   04_01   05_01   06_01   07_01   08_01   09_01  \\\n",
       "0   98.62  138.66  157.84  147.98  126.58   89.42   61.04   48.71   42.01   \n",
       "1   44.92   41.88   37.90   34.53   31.50   31.95   33.00   33.22   35.36   \n",
       "2  143.55  180.54  195.75  182.51  158.09  121.38   94.04   81.94   77.38   \n",
       "3   97.66  102.98  109.57  116.56  121.57  127.11  123.41  107.59  100.81   \n",
       "4   48.90   45.85   49.02   61.36   72.45   74.69   61.58   51.02   48.57   \n",
       "\n",
       "   10_01  ...  17_26  18_26  19_26  20_26  21_26  22_26  23_26  24_26  25_26  \\\n",
       "0  38.81  ...  38.88  35.44  41.38  36.74  35.17  39.41  41.52  34.47  32.98   \n",
       "1  39.93  ...  39.76  39.40  39.32  39.45  38.44  37.54  37.54  38.49  40.30   \n",
       "2  78.74  ...  78.64  74.84  80.71  76.20  73.61  76.96  79.06  72.96  73.29   \n",
       "3  92.88  ...  63.30  59.75  57.34  55.85  54.43  57.80  47.06  42.18  37.52   \n",
       "4  48.03  ...  41.03  39.94  38.52  36.14  39.53  40.59  40.46  39.79  40.34   \n",
       "\n",
       "   26_26  \n",
       "0  30.63  \n",
       "1  42.72  \n",
       "2  73.36  \n",
       "3  34.91  \n",
       "4  40.27  \n",
       "\n",
       "[5 rows x 676 columns]"
      ]
     },
     "execution_count": 6,
     "metadata": {},
     "output_type": "execute_result"
    }
   ],
   "source": [
    "data_selection.head()"
   ]
  },
  {
   "cell_type": "code",
   "execution_count": 7,
   "metadata": {},
   "outputs": [
    {
     "data": {
      "text/plain": [
       "Male      273\n",
       "Female    252\n",
       "Name: Gender, dtype: int64"
      ]
     },
     "execution_count": 7,
     "metadata": {},
     "output_type": "execute_result"
    }
   ],
   "source": [
    "data1.Gender.value_counts()"
   ]
  },
  {
   "cell_type": "code",
   "execution_count": 8,
   "metadata": {},
   "outputs": [
    {
     "data": {
      "text/plain": [
       "<Figure size 800x600 with 1 Axes>"
      ]
     },
     "metadata": {},
     "output_type": "display_data"
    }
   ],
   "source": [
    "import matplotlib.pyplot as plt\n",
    "fig = plt.figure(figsize=(8,6))\n",
    "data1.groupby('Gender').Gender.count().plot.bar(ylim=0)\n",
    "plt.show()"
   ]
  },
  {
   "cell_type": "code",
   "execution_count": 9,
   "metadata": {},
   "outputs": [
    {
     "data": {
      "image/png": "[encoded data removed]",
      "text/plain": [
       "<Figure size 576x432 with 1 Axes>"
      ]
     },
     "metadata": {
      "needs_background": "light"
     },
     "output_type": "display_data"
    }
   ],
   "source": [
    "import matplotlib.pyplot as plt\n",
    "fig = plt.figure(figsize=(8,6))\n",
    "data1.groupby('Age').Age.count().plot.bar(ylim=0)\n",
    "plt.show()"
   ]
  },
  {
   "cell_type": "code",
   "execution_count": 10,
   "metadata": {},
   "outputs": [],
   "source": [
    "X=data_selection.values"
   ]
  },
  {
   "cell_type": "code",
   "execution_count": 11,
   "metadata": {},
   "outputs": [
    {
     "data": {
      "text/plain": [
       "KMeans(algorithm='auto', copy_x=True, init='k-means++', max_iter=300,\n",
       "    n_clusters=2, n_init=10, n_jobs=None, precompute_distances='auto',\n",
       "    random_state=0, tol=0.0001, verbose=0)"
      ]
     },
     "execution_count": 11,
     "metadata": {},
     "output_type": "execute_result"
    }
   ],
   "source": [
    "from sklearn.cluster import KMeans\n",
    "\n",
    "kmeans = KMeans(n_clusters=2, random_state=0).fit(X)\n",
    "kmeans"
   ]
  },
  {
   "cell_type": "code",
   "execution_count": 12,
   "metadata": {},
   "outputs": [
    {
     "data": {
      "text/plain": [
       "array([0, 1, 0, 0, 1, 0, 1, 1, 0, 1, 1, 0, 0, 1, 0, 0, 1, 0, 1, 1, 1, 1,\n",
       "       1, 1, 0, 1, 0, 0, 1, 0, 0, 1, 0, 0, 1, 0, 1, 1, 0, 1, 1, 0, 0, 1,\n",
       "       0, 0, 1, 0, 1, 1, 0, 0, 1, 0, 1, 1, 0, 1, 1, 0, 0, 1, 0, 0, 1, 0,\n",
       "       0, 1, 0, 1, 1, 0, 0, 1, 0, 1, 1, 0, 0, 1, 0, 1, 1, 0, 0, 1, 0, 0,\n",
       "       1, 0, 0, 1, 0, 0, 1, 0, 1, 1, 1, 1, 1, 1, 1, 1, 0, 0, 1, 0, 0, 1,\n",
       "       0, 1, 1, 0, 1, 1, 0, 1, 1, 0, 1, 1, 0, 1, 1, 0, 1, 1, 0, 1, 1, 0,\n",
       "       0, 1, 0, 1, 1, 1, 0, 1, 0, 0, 1, 0, 1, 1, 0, 1, 1, 0, 1, 1, 0, 1,\n",
       "       1, 0, 0, 1, 0, 0, 1, 0, 0, 1, 0, 1, 1, 0, 1, 1, 1, 0, 1, 0, 0, 1,\n",
       "       0, 0, 1, 0, 1, 1, 0, 1, 1, 0, 0, 1, 0, 0, 1, 0, 0, 1, 0, 0, 1, 0,\n",
       "       0, 1, 0, 1, 1, 0, 0, 1, 0, 0, 1, 0, 1, 1, 0, 1, 1, 0, 1, 1, 1, 1,\n",
       "       1, 1, 1, 1, 1, 1, 1, 0, 0, 1, 0, 0, 1, 0, 1, 1, 0, 1, 1, 0, 0, 1,\n",
       "       0, 0, 1, 0, 0, 1, 0, 1, 1, 0, 0, 1, 0, 0, 1, 0, 0, 1, 0, 0, 1, 0,\n",
       "       0, 1, 0, 0, 1, 0, 0, 1, 0, 0, 1, 0, 1, 1, 0, 1, 1, 0, 0, 1, 0, 0,\n",
       "       1, 0, 0, 1, 0, 0, 1, 0, 0, 1, 0, 0, 1, 0, 0, 1, 0, 0, 1, 0, 0, 1,\n",
       "       0, 1, 1, 0, 0, 1, 0, 0, 1, 0, 1, 1, 0, 1, 1, 0, 1, 1, 0, 1, 1, 0,\n",
       "       0, 1, 0, 0, 1, 0, 0, 1, 0, 1, 1, 0, 0, 1, 0, 0, 1, 0, 0, 1, 0, 1,\n",
       "       1, 0, 1, 1, 0, 0, 1, 0, 1, 1, 0, 0, 1, 0, 0, 1, 0, 1, 1, 0, 1, 1,\n",
       "       0, 1, 1, 0, 0, 1, 0, 0, 1, 0, 0, 1, 0, 1, 1, 0, 0, 1, 0, 0, 1, 0,\n",
       "       1, 1, 0, 0, 1, 0, 0, 1, 0, 0, 1, 0, 0, 1, 0, 0, 1, 0, 0, 1, 0, 1,\n",
       "       1, 0, 1, 1, 0, 1, 1, 0, 0, 1, 0, 1, 1, 0, 1, 1, 0, 0, 1, 0, 0, 1,\n",
       "       0, 0, 1, 0, 0, 1, 0, 1, 1, 0, 1, 1, 0, 1, 1, 0, 0, 1, 0, 1, 1, 0,\n",
       "       1, 1, 0, 1, 1, 0, 0, 1, 0, 1, 1, 0, 1, 1, 0, 0, 1, 0, 0, 1, 0, 1,\n",
       "       1, 0, 1, 1, 0, 1, 1, 0, 0, 1, 0, 1, 1, 0, 1, 1, 0, 1, 1, 1, 1, 1,\n",
       "       1, 0, 1, 0, 1, 1, 0, 0, 1, 0, 1, 1, 0, 0, 1, 0, 0, 1, 0, 0, 1, 0,\n",
       "       1, 1, 0], dtype=int32)"
      ]
     },
     "execution_count": 12,
     "metadata": {},
     "output_type": "execute_result"
    }
   ],
   "source": [
    "kmeans.labels_"
   ]
  },
  {
   "cell_type": "code",
   "execution_count": 13,
   "metadata": {},
   "outputs": [
    {
     "name": "stdout",
     "output_type": "stream",
     "text": [
      "dict_keys([0, 1])\n",
      "dict_values([263, 268])\n"
     ]
    }
   ],
   "source": [
    "from collections import Counter\n",
    "print(Counter(kmeans.labels_).keys()) # equals to list(set(words))\n",
    "print(Counter(kmeans.labels_).values()) # counts the elements' frequency\n"
   ]
  },
  {
   "cell_type": "code",
   "execution_count": 14,
   "metadata": {},
   "outputs": [],
   "source": [
    "import numpy\n",
    "numpy.savetxt(\"data2_kmeans.labels_.csv\", kmeans.labels_, delimiter=\",\")"
   ]
  }
 ],
 "metadata": {
  "kernelspec": {
   "display_name": "Python 3",
   "language": "python",
   "name": "python3"
  },
  "language_info": {
   "codemirror_mode": {
    "name": "ipython",
    "version": 3
   },
   "file_extension": ".py",
   "mimetype": "text/x-python",
   "name": "python",
   "nbconvert_exporter": "python",
   "pygments_lexer": "ipython3",
   "version": "3.7.3"
  }
 },
 "nbformat": 4,
 "nbformat_minor": 2
}
